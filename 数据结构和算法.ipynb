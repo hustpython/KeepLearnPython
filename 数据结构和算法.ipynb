{
 "cells": [
  {
   "cell_type": "code",
   "execution_count": 3,
   "metadata": {
    "collapsed": false
   },
   "outputs": [
    {
     "data": {
      "text/plain": [
       "('dave', ['pig', '魏璎珞'])"
      ]
     },
     "execution_count": 3,
     "metadata": {},
     "output_type": "execute_result"
    }
   ],
   "source": [
    "# * 将多于的值赋给变量\n",
    "record = ('dave','pig','魏璎珞')\n",
    "name ,*email = record\n",
    "name,email"
   ]
  },
  {
   "cell_type": "code",
   "execution_count": 7,
   "metadata": {
    "collapsed": false
   },
   "outputs": [
    {
     "data": {
      "text/plain": [
       "7.142857142857143"
      ]
     },
     "execution_count": 7,
     "metadata": {},
     "output_type": "execute_result"
    }
   ],
   "source": [
    "*trailing, current = [10, 8, 7, 1, 9, 5, 10, 3]\n",
    "trailing,current\n",
    "average = sum(trailing) / len(trailing)\n"
   ]
  },
  {
   "cell_type": "code",
   "execution_count": 9,
   "metadata": {
    "collapsed": false
   },
   "outputs": [
    {
     "name": "stdout",
     "output_type": "stream",
     "text": [
      "foo 1 2\n",
      "bar hello\n",
      "foo 3 4\n"
     ]
    }
   ],
   "source": [
    "records = [\n",
    "('foo', 1, 2),\n",
    "('bar', 'hello'),\n",
    "('foo', 3, 4),\n",
    "]\n",
    "def do_foo(x, y):\n",
    "  print('foo', x, y)\n",
    "def do_bar(s):\n",
    "  print('bar', s)\n",
    "for tag, *args in records:\n",
    "    if tag == 'foo':\n",
    "      do_foo(*args)\n",
    "    elif tag == 'bar':\n",
    "      do_bar(*args)"
   ]
  },
  {
   "cell_type": "code",
   "execution_count": 10,
   "metadata": {
    "collapsed": false
   },
   "outputs": [
    {
     "name": "stdout",
     "output_type": "stream",
     "text": [
      "[42, 37, 23]\n",
      "[-4, 1, 2]\n"
     ]
    }
   ],
   "source": [
    "# 查找最大或最小的n个元素（用于N远小于列表元素N总个数)\n",
    "# 如果n 和N 相当还是用切片sorted(items)[:n]更快\n",
    "import heapq\n",
    "nums = [1, 8, 2, 23, 7, -4, 18, 23, 42, 37, 2]\n",
    "print(heapq.nlargest(3, nums)) # Prints [42, 37, 23]\n",
    "print(heapq.nsmallest(3, nums)) # Prints [-4, 1, 2]"
   ]
  },
  {
   "cell_type": "code",
   "execution_count": 20,
   "metadata": {
    "collapsed": false
   },
   "outputs": [
    {
     "data": {
      "text/plain": [
       "((10.75, 'FB'), (612.78, 'AAPL'))"
      ]
     },
     "execution_count": 20,
     "metadata": {},
     "output_type": "execute_result"
    }
   ],
   "source": [
    "prices = {\n",
    "'ACME': 45.23,\n",
    "'AAPL': 612.78,\n",
    "'IBM': 205.55,\n",
    "'HPQ': 37.20,\n",
    "'FB': 10.75\n",
    "}\n",
    "min_price = min(zip(prices.values(), prices.keys()))\n",
    "\n",
    "max_price = max(zip(prices.values(), prices.keys()))\n",
    "min_price,max_price"
   ]
  },
  {
   "cell_type": "code",
   "execution_count": 31,
   "metadata": {
    "collapsed": false
   },
   "outputs": [
    {
     "data": {
      "text/plain": [
       "({'x', 'y'}, {'z'}, {('y', 2)}, {'x': 1, 'y': 2})"
      ]
     },
     "execution_count": 31,
     "metadata": {},
     "output_type": "execute_result"
    }
   ],
   "source": [
    "# 找到两个字典的相同点\n",
    "a = {\n",
    "'x' : 1,\n",
    "'y' : 2,\n",
    "'z' : 3\n",
    "} \n",
    "b = {\n",
    "'w' : 10,\n",
    "'x' : 11,\n",
    "'y' : 2\n",
    "}\n",
    "# 相同的键\n",
    "samekey = a.keys() & b.keys()\n",
    "#不同的键\n",
    "diffkey = a.keys() - b.keys()\n",
    "#系统的值\n",
    "samevalue = a.items() & b.items()\n",
    "\n",
    "# 过滤掉a值键为的 w 和 z的键值对\n",
    "c = {key:a[key] for key in a.keys() - {'z','w'}}\n",
    "samekey,diffkey,samevalue,c"
   ]
  },
  {
   "cell_type": "code",
   "execution_count": 69,
   "metadata": {
    "collapsed": false
   },
   "outputs": [
    {
     "data": {
      "text/plain": [
       "([1, 5, 2, 9, 10],\n",
       " [{'x': 1, 'y': 2}, {'x': 1, 'y': 3}, {'x': 2, 'y': 4}],\n",
       " [{'x': 1, 'y': 2}, {'x': 2, 'y': 4}])"
      ]
     },
     "execution_count": 69,
     "metadata": {},
     "output_type": "execute_result"
    }
   ],
   "source": [
    "#  删除序列相同元素并保持顺序\n",
    "# 可哈希hashable list 和 dict都不是\n",
    "def deldupe(items,key=None):\n",
    "    seen = set()\n",
    "    for item in items:\n",
    "        # 匿名函数 key(item)->key=lambda d: (d['x'],d['y']))\n",
    "        # ( {'x':1, 'y':2}['x'], {'x':1, 'y':2}['y']) ->(1,2)\n",
    "        val = item if key is None else key(item)\n",
    "        if val not in seen:\n",
    "            yield item\n",
    "            seen.add(val)\n",
    "\n",
    "\n",
    "            \n",
    "# test1 list\n",
    "a = [1, 5, 2, 1, 9, 1, 5, 10]\n",
    "res0 = list(deldupe(a))\n",
    "# test2 dict key1\n",
    "b = [ {'x':1, 'y':2}, {'x':1, 'y':3}, {'x':1, 'y':2}, {'x':2, 'y':4}]\n",
    "res1 = list(deldupe(b, key=lambda d: (d['x'],d['y'])))\n",
    "res2 = list(deldupe(b, key=lambda d: (d['x'])))\n",
    "res0,res1,res2"
   ]
  },
  {
   "cell_type": "code",
   "execution_count": 71,
   "metadata": {
    "collapsed": false
   },
   "outputs": [
    {
     "name": "stdout",
     "output_type": "stream",
     "text": [
      "为璎珞\n",
      "\n",
      "富察傅恒\n",
      "\n",
      "尓晴\n",
      "\n"
     ]
    }
   ],
   "source": [
    "#1.10 读取一个文件，消除重复行\n",
    "with open('data/deleterepeatrows.txt','r') as f:\n",
    "   for line in deldupe(f):\n",
    "       print(line)"
   ]
  },
  {
   "cell_type": "code",
   "execution_count": 72,
   "metadata": {
    "collapsed": false
   },
   "outputs": [
    {
     "name": "stdout",
     "output_type": "stream",
     "text": [
      "[{'uid': 1004, 'fname': 'Big', 'lname': 'Jones'}, {'uid': 1003, 'fname': 'Brian', 'lname': 'Jones'}, {'uid': 1002, 'fname': 'David', 'lname': 'Beazley'}, {'uid': 1001, 'fname': 'John', 'lname': 'Cleese'}]\n",
      "[{'uid': 1001, 'fname': 'John', 'lname': 'Cleese'}, {'uid': 1002, 'fname': 'David', 'lname': 'Beazley'}, {'uid': 1003, 'fname': 'Brian', 'lname': 'Jones'}, {'uid': 1004, 'fname': 'Big', 'lname': 'Jones'}]\n",
      "[{'uid': 1002, 'fname': 'David', 'lname': 'Beazley'}, {'uid': 1001, 'fname': 'John', 'lname': 'Cleese'}, {'uid': 1004, 'fname': 'Big', 'lname': 'Jones'}, {'uid': 1003, 'fname': 'Brian', 'lname': 'Jones'}]\n"
     ]
    }
   ],
   "source": [
    "#1.13 通过某个关键字排序一个字典列表\n",
    "rows = [\n",
    "{'fname': 'Brian', 'lname': 'Jones', 'uid': 1003},\n",
    "{'fname': 'David', 'lname': 'Beazley', 'uid': 1002},\n",
    "{'fname': 'John', 'lname': 'Cleese', 'uid': 1001},\n",
    "{'fname': 'Big', 'lname': 'Jones', 'uid': 1004}\n",
    "]\n",
    "from operator import itemgetter\n",
    "rows_by_fname = sorted(rows, key=itemgetter('fname'))\n",
    "rows_by_uid = sorted(rows, key=itemgetter('uid'))\n",
    "print(rows_by_fname)\n",
    "print(rows_by_uid)\n",
    "rows_by_lfname = sorted(rows, key=itemgetter('lname','fname'))\n",
    "print(rows_by_lfname)\n",
    "#itemgetter() 有时候也可以用 lambda 表达式代替\n",
    "#但是，使用 itemgetter() 方式会运行的稍微快点。因此，如果\n",
    "#你对性能要求比较高的话就使用 itemgetter() 方式。"
   ]
  },
  {
   "cell_type": "code",
   "execution_count": 75,
   "metadata": {
    "collapsed": false
   },
   "outputs": [
    {
     "name": "stdout",
     "output_type": "stream",
     "text": [
      "07/01/2012\n",
      "  {'address': '5412 N CLARK', 'date': '07/01/2012'}\n",
      "  {'address': '4801 N BROADWAY', 'date': '07/01/2012'}\n",
      "07/02/2012\n",
      "  {'address': '5800 E 58TH', 'date': '07/02/2012'}\n",
      "  {'address': '5645 N RAVENSWOOD', 'date': '07/02/2012'}\n",
      "  {'address': '1060 W ADDISON', 'date': '07/02/2012'}\n",
      "07/03/2012\n",
      "  {'address': '2122 N CLARK', 'date': '07/03/2012'}\n",
      "07/04/2012\n",
      "  {'address': '5148 N CLARK', 'date': '07/04/2012'}\n",
      "  {'address': '1039 W GRANVILLE', 'date': '07/04/2012'}\n"
     ]
    }
   ],
   "source": [
    "# 1.15 通过某个字段将记录分组 itertools.groupby()\n",
    "rows = [\n",
    "{'address': '5412 N CLARK', 'date': '07/01/2012'},\n",
    "{'address': '5148 N CLARK', 'date': '07/04/2012'},\n",
    "{'address': '5800 E 58TH', 'date': '07/02/2012'},\n",
    "{'address': '2122 N CLARK', 'date': '07/03/2012'},\n",
    "{'address': '5645 N RAVENSWOOD', 'date': '07/02/2012'},\n",
    "{'address': '1060 W ADDISON', 'date': '07/02/2012'},\n",
    "{'address': '4801 N BROADWAY', 'date': '07/01/2012'},\n",
    "{'address': '1039 W GRANVILLE', 'date': '07/04/2012'},\n",
    "]\n",
    "from operator import itemgetter\n",
    "from itertools import groupby\n",
    "# Sort by the desired field first\n",
    "rows.sort(key=itemgetter('date'))\n",
    "# Iterate in groups\n",
    "for date, items in groupby(rows, key=itemgetter('date')):\n",
    "    print(date)\n",
    "    for i in items:\n",
    "      print(' ', i)"
   ]
  },
  {
   "cell_type": "code",
   "execution_count": 81,
   "metadata": {
    "collapsed": false
   },
   "outputs": [
    {
     "name": "stdout",
     "output_type": "stream",
     "text": [
      "1 4 10 2 3\n",
      "['1', '2', '-3', '4', '5']\n",
      "[False, False, True, False, False, True, True, False]\n"
     ]
    },
    {
     "data": {
      "text/plain": [
       "['5800 E 58TH', '1060 W ADDISON', '4801 N BROADWAY']"
      ]
     },
     "execution_count": 81,
     "metadata": {},
     "output_type": "execute_result"
    }
   ],
   "source": [
    "# 1.16 过滤序列元素\n",
    "# 使用迭代器而不是list\n",
    "mylist = [1, 4, -5, 10, -7, 2, 3, -1]\n",
    "pos = (n for n in mylist if n > 0)\n",
    "print(*pos)\n",
    "# 将过滤规则放在单独的函数中\n",
    "values = ['1', '2', '-3', '-', '4', 'N/A', '5']\n",
    "def is_int(val):\n",
    "    try:\n",
    "       x = int(val)\n",
    "       return True\n",
    "    except ValueError:\n",
    "       return False\n",
    "ivals = list(filter(is_int, values))\n",
    "print(ivals)\n",
    "\n",
    "#另外一个值得关注的过滤工具就是 itertools.compress() ，它以一个 iterable\n",
    "#对象和一个相对应的 Boolean 选择器序列作为输入参数。然后输出 iterable 对象中对\n",
    "#应选择器为 True 的元素。当你需要用另外一个相关联的序列来过滤某个序列的时候，\n",
    "#这个函数是非常有用的。比如，假如现在你有下面两列数据：\n",
    "\n",
    "addresses = [\n",
    "'5412 N CLARK',\n",
    "'5148 N CLARK',\n",
    "'5800 E 58TH',\n",
    "'2122 N CLARK',\n",
    "'5645 N RAVENSWOOD',\n",
    "'1060 W ADDISON',\n",
    "'4801 N BROADWAY',\n",
    "'1039 W GRANVILLE',\n",
    "]\n",
    "counts = [ 0, 3, 10, 4, 1, 7, 6, 1]\n",
    "from itertools import compress\n",
    "more5 = [n > 5 for n in counts]\n",
    "print(more5)\n",
    "list(compress(addresses, more5))"
   ]
  }
 ],
 "metadata": {
  "kernelspec": {
   "display_name": "Python [conda root]",
   "language": "python",
   "name": "conda-root-py"
  },
  "language_info": {
   "codemirror_mode": {
    "name": "ipython",
    "version": 3
   },
   "file_extension": ".py",
   "mimetype": "text/x-python",
   "name": "python",
   "nbconvert_exporter": "python",
   "pygments_lexer": "ipython3",
   "version": "3.5.2"
  }
 },
 "nbformat": 4,
 "nbformat_minor": 1
}

{
 "cells": [
  {
   "cell_type": "code",
   "execution_count": 3,
   "metadata": {
    "collapsed": false
   },
   "outputs": [
    {
     "data": {
      "text/plain": [
       "('dave', ['pig', '魏璎珞'])"
      ]
     },
     "execution_count": 3,
     "metadata": {},
     "output_type": "execute_result"
    }
   ],
   "source": [
    "# * 将多于的值赋给变量\n",
    "record = ('dave','pig','魏璎珞')\n",
    "name ,*email = record\n",
    "name,email"
   ]
  },
  {
   "cell_type": "code",
   "execution_count": 7,
   "metadata": {
    "collapsed": false
   },
   "outputs": [
    {
     "data": {
      "text/plain": [
       "7.142857142857143"
      ]
     },
     "execution_count": 7,
     "metadata": {},
     "output_type": "execute_result"
    }
   ],
   "source": [
    "*trailing, current = [10, 8, 7, 1, 9, 5, 10, 3]\n",
    "trailing,current\n",
    "average = sum(trailing) / len(trailing)\n"
   ]
  },
  {
   "cell_type": "code",
   "execution_count": 9,
   "metadata": {
    "collapsed": false
   },
   "outputs": [
    {
     "name": "stdout",
     "output_type": "stream",
     "text": [
      "foo 1 2\n",
      "bar hello\n",
      "foo 3 4\n"
     ]
    }
   ],
   "source": [
    "records = [\n",
    "('foo', 1, 2),\n",
    "('bar', 'hello'),\n",
    "('foo', 3, 4),\n",
    "]\n",
    "def do_foo(x, y):\n",
    "  print('foo', x, y)\n",
    "def do_bar(s):\n",
    "  print('bar', s)\n",
    "for tag, *args in records:\n",
    "    if tag == 'foo':\n",
    "      do_foo(*args)\n",
    "    elif tag == 'bar':\n",
    "      do_bar(*args)"
   ]
  },
  {
   "cell_type": "code",
   "execution_count": 10,
   "metadata": {
    "collapsed": false
   },
   "outputs": [
    {
     "name": "stdout",
     "output_type": "stream",
     "text": [
      "[42, 37, 23]\n",
      "[-4, 1, 2]\n"
     ]
    }
   ],
   "source": [
    "# 查找最大或最小的n个元素（用于N远小于列表元素N总个数)\n",
    "# 如果n 和N 相当还是用切片sorted(items)[:n]更快\n",
    "import heapq\n",
    "nums = [1, 8, 2, 23, 7, -4, 18, 23, 42, 37, 2]\n",
    "print(heapq.nlargest(3, nums)) # Prints [42, 37, 23]\n",
    "print(heapq.nsmallest(3, nums)) # Prints [-4, 1, 2]"
   ]
  },
  {
   "cell_type": "code",
   "execution_count": 20,
   "metadata": {
    "collapsed": false
   },
   "outputs": [
    {
     "data": {
      "text/plain": [
       "((10.75, 'FB'), (612.78, 'AAPL'))"
      ]
     },
     "execution_count": 20,
     "metadata": {},
     "output_type": "execute_result"
    }
   ],
   "source": [
    "prices = {\n",
    "'ACME': 45.23,\n",
    "'AAPL': 612.78,\n",
    "'IBM': 205.55,\n",
    "'HPQ': 37.20,\n",
    "'FB': 10.75\n",
    "}\n",
    "min_price = min(zip(prices.values(), prices.keys()))\n",
    "\n",
    "max_price = max(zip(prices.values(), prices.keys()))\n",
    "min_price,max_price"
   ]
  },
  {
   "cell_type": "code",
   "execution_count": 31,
   "metadata": {
    "collapsed": false
   },
   "outputs": [
    {
     "data": {
      "text/plain": [
       "({'x', 'y'}, {'z'}, {('y', 2)}, {'x': 1, 'y': 2})"
      ]
     },
     "execution_count": 31,
     "metadata": {},
     "output_type": "execute_result"
    }
   ],
   "source": [
    "# 找到两个字典的相同点\n",
    "a = {\n",
    "'x' : 1,\n",
    "'y' : 2,\n",
    "'z' : 3\n",
    "} \n",
    "b = {\n",
    "'w' : 10,\n",
    "'x' : 11,\n",
    "'y' : 2\n",
    "}\n",
    "# 相同的键\n",
    "samekey = a.keys() & b.keys()\n",
    "#不同的键\n",
    "diffkey = a.keys() - b.keys()\n",
    "#系统的值\n",
    "samevalue = a.items() & b.items()\n",
    "\n",
    "# 过滤掉a值键为的 w 和 z的键值对\n",
    "c = {key:a[key] for key in a.keys() - {'z','w'}}\n",
    "samekey,diffkey,samevalue,c"
   ]
  },
  {
   "cell_type": "code",
   "execution_count": 69,
   "metadata": {
    "collapsed": false
   },
   "outputs": [
    {
     "data": {
      "text/plain": [
       "([1, 5, 2, 9, 10],\n",
       " [{'x': 1, 'y': 2}, {'x': 1, 'y': 3}, {'x': 2, 'y': 4}],\n",
       " [{'x': 1, 'y': 2}, {'x': 2, 'y': 4}])"
      ]
     },
     "execution_count": 69,
     "metadata": {},
     "output_type": "execute_result"
    }
   ],
   "source": [
    "#  删除序列相同元素并保持顺序\n",
    "# 可哈希hashable list 和 dict都不是\n",
    "def deldupe(items,key=None):\n",
    "    seen = set()\n",
    "    for item in items:\n",
    "        # 匿名函数 key(item)->key=lambda d: (d['x'],d['y']))\n",
    "        # ( {'x':1, 'y':2}['x'], {'x':1, 'y':2}['y']) ->(1,2)\n",
    "        val = item if key is None else key(item)\n",
    "        if val not in seen:\n",
    "            yield item\n",
    "            seen.add(val)\n",
    "\n",
    "\n",
    "            \n",
    "# test1 list\n",
    "a = [1, 5, 2, 1, 9, 1, 5, 10]\n",
    "res0 = list(deldupe(a))\n",
    "# test2 dict key1\n",
    "b = [ {'x':1, 'y':2}, {'x':1, 'y':3}, {'x':1, 'y':2}, {'x':2, 'y':4}]\n",
    "res1 = list(deldupe(b, key=lambda d: (d['x'],d['y'])))\n",
    "res2 = list(deldupe(b, key=lambda d: (d['x'])))\n",
    "res0,res1,res2"
   ]
  },
  {
   "cell_type": "code",
   "execution_count": 71,
   "metadata": {
    "collapsed": false
   },
   "outputs": [
    {
     "name": "stdout",
     "output_type": "stream",
     "text": [
      "为璎珞\n",
      "\n",
      "富察傅恒\n",
      "\n",
      "尓晴\n",
      "\n"
     ]
    }
   ],
   "source": [
    "#1.10 读取一个文件，消除重复行\n",
    "with open('data/deleterepeatrows.txt','r') as f:\n",
    "   for line in deldupe(f):\n",
    "       print(line)"
   ]
  }
 ],
 "metadata": {
  "kernelspec": {
   "display_name": "Python [conda root]",
   "language": "python",
   "name": "conda-root-py"
  },
  "language_info": {
   "codemirror_mode": {
    "name": "ipython",
    "version": 3
   },
   "file_extension": ".py",
   "mimetype": "text/x-python",
   "name": "python",
   "nbconvert_exporter": "python",
   "pygments_lexer": "ipython3",
   "version": "3.5.2"
  }
 },
 "nbformat": 4,
 "nbformat_minor": 1
}
